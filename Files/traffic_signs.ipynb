{
 "cells": [
  {
   "cell_type": "code",
   "execution_count": 299,
   "id": "73438021",
   "metadata": {},
   "outputs": [],
   "source": [
    "import numpy as np\n",
    "import pandas as pd\n",
    "import matplotlib.pyplot as plt\n",
    "import tensorflow as tf\n",
    "from PIL import Image\n",
    "import os\n",
    "from sklearn.model_selection import train_test_split\n",
    "from tensorflow.keras.utils import to_categorical\n",
    "from keras.models import Sequential\n",
    "from keras.layers import Conv2D, MaxPool2D, Dense, Flatten, Dropout\n",
    "from sklearn.metrics import multilabel_confusion_matrix, classification_report, confusion_matrix"
   ]
  },
  {
   "cell_type": "markdown",
   "id": "f906a699",
   "metadata": {},
   "source": [
    "putting our training images into array to be able to split them for modeling"
   ]
  },
  {
   "cell_type": "code",
   "execution_count": 32,
   "id": "0dd6e078",
   "metadata": {},
   "outputs": [
    {
     "name": "stdout",
     "output_type": "stream",
     "text": [
      "Error loading image\n",
      "Error loading image\n",
      "Error loading image\n",
      "Error loading image\n",
      "Error loading image\n",
      "Error loading image\n",
      "Error loading image\n",
      "Error loading image\n",
      "Error loading image\n",
      "Error loading image\n",
      "Error loading image\n",
      "Error loading image\n",
      "Error loading image\n",
      "Error loading image\n",
      "Error loading image\n",
      "Error loading image\n",
      "Error loading image\n",
      "Error loading image\n",
      "Error loading image\n",
      "Error loading image\n",
      "Error loading image\n",
      "Error loading image\n",
      "Error loading image\n",
      "Error loading image\n",
      "Error loading image\n",
      "Error loading image\n",
      "Error loading image\n",
      "Error loading image\n",
      "Error loading image\n",
      "Error loading image\n",
      "Error loading image\n",
      "Error loading image\n",
      "Error loading image\n",
      "Error loading image\n",
      "Error loading image\n",
      "Error loading image\n",
      "Error loading image\n",
      "Error loading image\n",
      "Error loading image\n",
      "Error loading image\n",
      "Error loading image\n",
      "Error loading image\n",
      "Error loading image\n",
      "Error loading image\n",
      "Error loading image\n",
      "Error loading image\n",
      "Error loading image\n",
      "Error loading image\n",
      "Error loading image\n",
      "Error loading image\n",
      "Error loading image\n",
      "Error loading image\n",
      "Error loading image\n",
      "Error loading image\n",
      "Error loading image\n",
      "Error loading image\n",
      "Error loading image\n",
      "Error loading image\n",
      "Error loading image\n",
      "Error loading image\n",
      "Error loading image\n",
      "Error loading image\n",
      "Error loading image\n",
      "Error loading image\n",
      "Error loading image\n",
      "Error loading image\n",
      "Error loading image\n",
      "Error loading image\n",
      "Error loading image\n",
      "Error loading image\n",
      "Error loading image\n",
      "Error loading image\n",
      "Error loading image\n",
      "Error loading image\n",
      "Error loading image\n",
      "Error loading image\n",
      "Error loading image\n",
      "Error loading image\n",
      "Error loading image\n",
      "Error loading image\n",
      "Error loading image\n",
      "Error loading image\n",
      "Error loading image\n",
      "Error loading image\n",
      "Error loading image\n",
      "Error loading image\n",
      "Error loading image\n",
      "Error loading image\n",
      "Error loading image\n",
      "Error loading image\n",
      "Error loading image\n",
      "Error loading image\n",
      "Error loading image\n",
      "Error loading image\n",
      "Error loading image\n",
      "Error loading image\n",
      "Error loading image\n",
      "Error loading image\n",
      "Error loading image\n",
      "Error loading image\n",
      "Error loading image\n",
      "Error loading image\n",
      "Error loading image\n",
      "Error loading image\n",
      "Error loading image\n",
      "Error loading image\n",
      "Error loading image\n",
      "Error loading image\n",
      "Error loading image\n",
      "Error loading image\n",
      "Error loading image\n",
      "Error loading image\n",
      "Error loading image\n",
      "Error loading image\n",
      "Error loading image\n",
      "Error loading image\n",
      "Error loading image\n",
      "Error loading image\n",
      "Error loading image\n",
      "Error loading image\n",
      "Error loading image\n",
      "Error loading image\n",
      "Error loading image\n",
      "Error loading image\n",
      "Error loading image\n",
      "Error loading image\n",
      "Error loading image\n",
      "Error loading image\n",
      "Error loading image\n",
      "Error loading image\n",
      "Error loading image\n",
      "Error loading image\n",
      "Error loading image\n",
      "Error loading image\n",
      "Error loading image\n",
      "Error loading image\n",
      "Error loading image\n",
      "Error loading image\n",
      "Error loading image\n",
      "Error loading image\n",
      "Error loading image\n",
      "Error loading image\n",
      "Error loading image\n",
      "Error loading image\n",
      "Error loading image\n",
      "Error loading image\n",
      "Error loading image\n",
      "Error loading image\n",
      "Error loading image\n",
      "Error loading image\n",
      "Error loading image\n",
      "Error loading image\n",
      "Error loading image\n",
      "Error loading image\n",
      "Error loading image\n",
      "Error loading image\n",
      "Error loading image\n",
      "Error loading image\n",
      "Error loading image\n",
      "Error loading image\n",
      "Error loading image\n",
      "Error loading image\n",
      "Error loading image\n",
      "Error loading image\n",
      "Error loading image\n",
      "Error loading image\n",
      "Error loading image\n",
      "Error loading image\n",
      "Error loading image\n",
      "Error loading image\n",
      "Error loading image\n",
      "Error loading image\n",
      "Error loading image\n",
      "Error loading image\n",
      "Error loading image\n",
      "Error loading image\n",
      "Error loading image\n",
      "Error loading image\n",
      "Error loading image\n",
      "Error loading image\n",
      "Error loading image\n",
      "Error loading image\n",
      "Error loading image\n",
      "Error loading image\n",
      "Error loading image\n",
      "Error loading image\n",
      "Error loading image\n",
      "Error loading image\n",
      "Error loading image\n",
      "Error loading image\n",
      "Error loading image\n",
      "Error loading image\n",
      "Error loading image\n",
      "Error loading image\n",
      "Error loading image\n",
      "Error loading image\n",
      "Error loading image\n",
      "Error loading image\n",
      "Error loading image\n",
      "Error loading image\n",
      "Error loading image\n",
      "Error loading image\n",
      "Error loading image\n",
      "Error loading image\n",
      "Error loading image\n",
      "Error loading image\n",
      "Error loading image\n",
      "Error loading image\n",
      "Error loading image\n",
      "Error loading image\n",
      "Error loading image\n",
      "Error loading image\n",
      "Error loading image\n",
      "Error loading image\n",
      "Error loading image\n",
      "Error loading image\n",
      "Error loading image\n",
      "Error loading image\n",
      "Error loading image\n",
      "Error loading image\n",
      "Error loading image\n",
      "Error loading image\n",
      "Error loading image\n",
      "Error loading image\n",
      "Error loading image\n",
      "Error loading image\n",
      "Error loading image\n",
      "Error loading image\n",
      "Error loading image\n",
      "Error loading image\n",
      "Error loading image\n",
      "Error loading image\n",
      "Error loading image\n",
      "Error loading image\n",
      "Error loading image\n",
      "Error loading image\n",
      "Error loading image\n",
      "Error loading image\n",
      "Error loading image\n",
      "Error loading image\n",
      "Error loading image\n",
      "Error loading image\n",
      "Error loading image\n",
      "Error loading image\n",
      "Error loading image\n",
      "Error loading image\n",
      "Error loading image\n",
      "Error loading image\n",
      "Error loading image\n",
      "Error loading image\n",
      "Error loading image\n",
      "Error loading image\n"
     ]
    }
   ],
   "source": [
    "data = []\n",
    "labels = []\n",
    "classes = 149\n",
    "cur_path = os.getcwd()\n",
    "# i = 0o1\n",
    "for i in range(classes):\n",
    "    path = os.path.join(cur_path,'Training', str(i))\n",
    "    images = os.listdir(path)\n",
    "#     i+=1 \n",
    "    for a in images:\n",
    "        try:\n",
    "            image = Image.open(path + '\\\\'+ a)\n",
    "            image = image.resize((30,30))\n",
    "            image = np.array(image)\n",
    "            data.append(image)\n",
    "            labels.append(i)\n",
    "        except:\n",
    "            print('Error loading image')\n",
    "            \n",
    "data = np.array(data)\n",
    "labels = np.array(labels)"
   ]
  },
  {
   "cell_type": "markdown",
   "id": "feae1411",
   "metadata": {},
   "source": [
    "data"
   ]
  },
  {
   "cell_type": "code",
   "execution_count": 33,
   "id": "3a6ed683",
   "metadata": {
    "scrolled": true
   },
   "outputs": [],
   "source": [
    "X = data\n",
    "y = labels"
   ]
  },
  {
   "cell_type": "code",
   "execution_count": 34,
   "id": "a9601459",
   "metadata": {},
   "outputs": [
    {
     "name": "stdout",
     "output_type": "stream",
     "text": [
      "(63094, 30, 30, 3) (63094,)\n",
      "(50475, 30, 30, 3) (12619, 30, 30, 3) (50475,) (12619,)\n"
     ]
    }
   ],
   "source": [
    "print(data.shape, labels.shape)\n",
    "X_train, X_test, y_train, y_test = train_test_split(X, y, test_size=0.2, random_state=42)\n",
    "\n",
    "print(X_train.shape, X_test.shape, y_train.shape, y_test.shape)\n",
    "y_train = to_categorical(y_train,149)\n",
    "y_test = to_categorical(y_test, 149)"
   ]
  },
  {
   "cell_type": "markdown",
   "id": "e89218b0",
   "metadata": {},
   "source": [
    "Building Convolutional Neural Network (CNN) model"
   ]
  },
  {
   "cell_type": "code",
   "execution_count": 35,
   "id": "2fe222fc",
   "metadata": {},
   "outputs": [],
   "source": [
    "model = Sequential()\n",
    "model.add(Conv2D(filters=32, kernel_size=(5,5), activation='relu', input_shape=X_train.shape[1:]))\n",
    "model.add(Conv2D(filters=32, kernel_size=(5,5), activation='relu'))\n",
    "model.add(MaxPool2D(pool_size=(2, 2)))\n",
    "model.add(Dropout(rate=0.25))\n",
    "model.add(Conv2D(filters=64, kernel_size=(3, 3), activation='relu'))\n",
    "model.add(Conv2D(filters=64, kernel_size=(3, 3), activation='relu'))\n",
    "model.add(MaxPool2D(pool_size=(2, 2)))\n",
    "model.add(Dropout(rate=0.25))\n",
    "model.add(Flatten())\n",
    "model.add(Dense(256, activation='relu'))\n",
    "model.add(Dropout(rate=0.5))\n",
    "model.add(Dense(149, activation='softmax'))"
   ]
  },
  {
   "cell_type": "markdown",
   "id": "a63f2ea3",
   "metadata": {},
   "source": [
    "Getting the model and saving it"
   ]
  },
  {
   "cell_type": "code",
   "execution_count": 37,
   "id": "25e195e5",
   "metadata": {},
   "outputs": [
    {
     "name": "stdout",
     "output_type": "stream",
     "text": [
      "Epoch 1/15\n",
      "1578/1578 [==============================] - 79s 50ms/step - loss: 2.7547 - accuracy: 0.4391 - val_loss: 1.1767 - val_accuracy: 0.7629\n",
      "Epoch 2/15\n",
      "1578/1578 [==============================] - 77s 49ms/step - loss: 1.4376 - accuracy: 0.6884 - val_loss: 0.9940 - val_accuracy: 0.8120\n",
      "Epoch 3/15\n",
      "1578/1578 [==============================] - 77s 49ms/step - loss: 1.1901 - accuracy: 0.7370 - val_loss: 0.7934 - val_accuracy: 0.8341\n",
      "Epoch 4/15\n",
      "1578/1578 [==============================] - 80s 50ms/step - loss: 1.0632 - accuracy: 0.7627 - val_loss: 0.7477 - val_accuracy: 0.8422\n",
      "Epoch 5/15\n",
      "1578/1578 [==============================] - 80s 50ms/step - loss: 0.9847 - accuracy: 0.7773 - val_loss: 0.7210 - val_accuracy: 0.8431\n",
      "Epoch 6/15\n",
      "1578/1578 [==============================] - 81s 51ms/step - loss: 0.9239 - accuracy: 0.7868 - val_loss: 0.6527 - val_accuracy: 0.8562\n",
      "Epoch 7/15\n",
      "1578/1578 [==============================] - 80s 51ms/step - loss: 0.8817 - accuracy: 0.7969 - val_loss: 0.6536 - val_accuracy: 0.8540\n",
      "Epoch 8/15\n",
      "1578/1578 [==============================] - 81s 52ms/step - loss: 0.8473 - accuracy: 0.8034 - val_loss: 0.6341 - val_accuracy: 0.8539\n",
      "Epoch 9/15\n",
      "1578/1578 [==============================] - 86s 54ms/step - loss: 0.8299 - accuracy: 0.8075 - val_loss: 0.6100 - val_accuracy: 0.8579\n",
      "Epoch 10/15\n",
      "1578/1578 [==============================] - 92s 58ms/step - loss: 0.8083 - accuracy: 0.8100 - val_loss: 0.6420 - val_accuracy: 0.8511\n",
      "Epoch 11/15\n",
      "1578/1578 [==============================] - 91s 58ms/step - loss: 0.7948 - accuracy: 0.8126 - val_loss: 0.5837 - val_accuracy: 0.8646\n",
      "Epoch 12/15\n",
      "1578/1578 [==============================] - 91s 57ms/step - loss: 0.7738 - accuracy: 0.8202 - val_loss: 0.6345 - val_accuracy: 0.8541\n",
      "Epoch 13/15\n",
      "1578/1578 [==============================] - 94s 59ms/step - loss: 0.7724 - accuracy: 0.8165 - val_loss: 0.5923 - val_accuracy: 0.8666\n",
      "Epoch 14/15\n",
      "1578/1578 [==============================] - 95s 60ms/step - loss: 0.7608 - accuracy: 0.8197 - val_loss: 0.5864 - val_accuracy: 0.8620\n",
      "Epoch 15/15\n",
      "1578/1578 [==============================] - 88s 55ms/step - loss: 0.7402 - accuracy: 0.8231 - val_loss: 0.6004 - val_accuracy: 0.8576\n",
      "Wall time: 21min 11s\n"
     ]
    }
   ],
   "source": [
    "%%time\n",
    "model.compile(loss='categorical_crossentropy', optimizer='adam', metrics=['accuracy'])\n",
    "epochs = 15\n",
    "history = model.fit(X_train, y_train, batch_size=32, epochs=epochs, validation_data=(X_test, y_test))\n",
    "model.save(\"my_model.h5\")"
   ]
  },
  {
   "cell_type": "markdown",
   "id": "749ede11",
   "metadata": {},
   "source": [
    "importing the test dataframe that we built in previous notebook"
   ]
  },
  {
   "cell_type": "code",
   "execution_count": 170,
   "id": "57dc24b8",
   "metadata": {
    "scrolled": true
   },
   "outputs": [
    {
     "data": {
      "text/html": [
       "<div>\n",
       "<style scoped>\n",
       "    .dataframe tbody tr th:only-of-type {\n",
       "        vertical-align: middle;\n",
       "    }\n",
       "\n",
       "    .dataframe tbody tr th {\n",
       "        vertical-align: top;\n",
       "    }\n",
       "\n",
       "    .dataframe thead th {\n",
       "        text-align: right;\n",
       "    }\n",
       "</style>\n",
       "<table border=\"1\" class=\"dataframe\">\n",
       "  <thead>\n",
       "    <tr style=\"text-align: right;\">\n",
       "      <th></th>\n",
       "      <th>ClassId</th>\n",
       "      <th>Path</th>\n",
       "    </tr>\n",
       "  </thead>\n",
       "  <tbody>\n",
       "    <tr>\n",
       "      <th>0</th>\n",
       "      <td>H1</td>\n",
       "      <td>image_test_0.jpg</td>\n",
       "    </tr>\n",
       "    <tr>\n",
       "      <th>1</th>\n",
       "      <td>H1</td>\n",
       "      <td>image_test_1.jpg</td>\n",
       "    </tr>\n",
       "    <tr>\n",
       "      <th>2</th>\n",
       "      <td>H1</td>\n",
       "      <td>image_test_2.jpg</td>\n",
       "    </tr>\n",
       "    <tr>\n",
       "      <th>3</th>\n",
       "      <td>H1</td>\n",
       "      <td>image_test_3.jpg</td>\n",
       "    </tr>\n",
       "    <tr>\n",
       "      <th>4</th>\n",
       "      <td>H1</td>\n",
       "      <td>image_test_4.jpg</td>\n",
       "    </tr>\n",
       "    <tr>\n",
       "      <th>...</th>\n",
       "      <td>...</td>\n",
       "      <td>...</td>\n",
       "    </tr>\n",
       "    <tr>\n",
       "      <th>14546</th>\n",
       "      <td>J7</td>\n",
       "      <td>image_test_14546.jpg</td>\n",
       "    </tr>\n",
       "    <tr>\n",
       "      <th>14547</th>\n",
       "      <td>J7</td>\n",
       "      <td>image_test_14547.jpg</td>\n",
       "    </tr>\n",
       "    <tr>\n",
       "      <th>14548</th>\n",
       "      <td>J7</td>\n",
       "      <td>image_test_14548.jpg</td>\n",
       "    </tr>\n",
       "    <tr>\n",
       "      <th>14549</th>\n",
       "      <td>J7</td>\n",
       "      <td>image_test_14549.jpg</td>\n",
       "    </tr>\n",
       "    <tr>\n",
       "      <th>14550</th>\n",
       "      <td>J7</td>\n",
       "      <td>image_test_14550.jpg</td>\n",
       "    </tr>\n",
       "  </tbody>\n",
       "</table>\n",
       "<p>14551 rows × 2 columns</p>\n",
       "</div>"
      ],
      "text/plain": [
       "      ClassId                  Path\n",
       "0          H1      image_test_0.jpg\n",
       "1          H1      image_test_1.jpg\n",
       "2          H1      image_test_2.jpg\n",
       "3          H1      image_test_3.jpg\n",
       "4          H1      image_test_4.jpg\n",
       "...       ...                   ...\n",
       "14546      J7  image_test_14546.jpg\n",
       "14547      J7  image_test_14547.jpg\n",
       "14548      J7  image_test_14548.jpg\n",
       "14549      J7  image_test_14549.jpg\n",
       "14550      J7  image_test_14550.jpg\n",
       "\n",
       "[14551 rows x 2 columns]"
      ]
     },
     "execution_count": 170,
     "metadata": {},
     "output_type": "execute_result"
    }
   ],
   "source": [
    "test_df = pd.read_csv('C:\\\\Users\\\\hp\\\\Downloads\\\\170 - Copy - Copy\\\\Test_df.csv')\n",
    "test_df"
   ]
  },
  {
   "cell_type": "markdown",
   "id": "55e70cf9",
   "metadata": {},
   "source": [
    "dropping some rows because of corrupted images(the weren't opening)"
   ]
  },
  {
   "cell_type": "code",
   "execution_count": 171,
   "id": "d9d9a1ba",
   "metadata": {},
   "outputs": [
    {
     "data": {
      "text/plain": [
       "Int64Index([   95,    96,    97,    98,   284,   286,   288,   289,   290,\n",
       "              291,\n",
       "            ...\n",
       "            14381, 14382, 14383, 14384, 14385, 14386, 14387, 14388, 14389,\n",
       "            14390],\n",
       "           dtype='int64', length=572)"
      ]
     },
     "execution_count": 171,
     "metadata": {},
     "output_type": "execute_result"
    }
   ],
   "source": [
    "drop_rows = test_df[test_df['Path'].isin(test_corrupted)].index\n",
    "drop_rows"
   ]
  },
  {
   "cell_type": "code",
   "execution_count": 172,
   "id": "e26fce5a",
   "metadata": {
    "scrolled": true
   },
   "outputs": [],
   "source": [
    "test_df = test_df.drop(drop_rows,axis=0)"
   ]
  },
  {
   "cell_type": "code",
   "execution_count": 173,
   "id": "92ea3fe6",
   "metadata": {
    "scrolled": true
   },
   "outputs": [
    {
     "data": {
      "text/html": [
       "<div>\n",
       "<style scoped>\n",
       "    .dataframe tbody tr th:only-of-type {\n",
       "        vertical-align: middle;\n",
       "    }\n",
       "\n",
       "    .dataframe tbody tr th {\n",
       "        vertical-align: top;\n",
       "    }\n",
       "\n",
       "    .dataframe thead th {\n",
       "        text-align: right;\n",
       "    }\n",
       "</style>\n",
       "<table border=\"1\" class=\"dataframe\">\n",
       "  <thead>\n",
       "    <tr style=\"text-align: right;\">\n",
       "      <th></th>\n",
       "      <th>ClassId</th>\n",
       "      <th>Path</th>\n",
       "    </tr>\n",
       "  </thead>\n",
       "  <tbody>\n",
       "    <tr>\n",
       "      <th>0</th>\n",
       "      <td>H1</td>\n",
       "      <td>image_test_0.jpg</td>\n",
       "    </tr>\n",
       "    <tr>\n",
       "      <th>1</th>\n",
       "      <td>H1</td>\n",
       "      <td>image_test_1.jpg</td>\n",
       "    </tr>\n",
       "    <tr>\n",
       "      <th>2</th>\n",
       "      <td>H1</td>\n",
       "      <td>image_test_2.jpg</td>\n",
       "    </tr>\n",
       "    <tr>\n",
       "      <th>3</th>\n",
       "      <td>H1</td>\n",
       "      <td>image_test_3.jpg</td>\n",
       "    </tr>\n",
       "    <tr>\n",
       "      <th>4</th>\n",
       "      <td>H1</td>\n",
       "      <td>image_test_4.jpg</td>\n",
       "    </tr>\n",
       "    <tr>\n",
       "      <th>...</th>\n",
       "      <td>...</td>\n",
       "      <td>...</td>\n",
       "    </tr>\n",
       "    <tr>\n",
       "      <th>13974</th>\n",
       "      <td>J7</td>\n",
       "      <td>image_test_14546.jpg</td>\n",
       "    </tr>\n",
       "    <tr>\n",
       "      <th>13975</th>\n",
       "      <td>J7</td>\n",
       "      <td>image_test_14547.jpg</td>\n",
       "    </tr>\n",
       "    <tr>\n",
       "      <th>13976</th>\n",
       "      <td>J7</td>\n",
       "      <td>image_test_14548.jpg</td>\n",
       "    </tr>\n",
       "    <tr>\n",
       "      <th>13977</th>\n",
       "      <td>J7</td>\n",
       "      <td>image_test_14549.jpg</td>\n",
       "    </tr>\n",
       "    <tr>\n",
       "      <th>13978</th>\n",
       "      <td>J7</td>\n",
       "      <td>image_test_14550.jpg</td>\n",
       "    </tr>\n",
       "  </tbody>\n",
       "</table>\n",
       "<p>13979 rows × 2 columns</p>\n",
       "</div>"
      ],
      "text/plain": [
       "      ClassId                  Path\n",
       "0          H1      image_test_0.jpg\n",
       "1          H1      image_test_1.jpg\n",
       "2          H1      image_test_2.jpg\n",
       "3          H1      image_test_3.jpg\n",
       "4          H1      image_test_4.jpg\n",
       "...       ...                   ...\n",
       "13974      J7  image_test_14546.jpg\n",
       "13975      J7  image_test_14547.jpg\n",
       "13976      J7  image_test_14548.jpg\n",
       "13977      J7  image_test_14549.jpg\n",
       "13978      J7  image_test_14550.jpg\n",
       "\n",
       "[13979 rows x 2 columns]"
      ]
     },
     "execution_count": 173,
     "metadata": {},
     "output_type": "execute_result"
    }
   ],
   "source": [
    "test_df.reset_index(drop=True)"
   ]
  },
  {
   "cell_type": "code",
   "execution_count": 289,
   "id": "6eb58529",
   "metadata": {},
   "outputs": [
    {
     "data": {
      "text/plain": [
       "array([  0,   1,   2,   3,   4,   5,   6,   7,   8,   9,  10,  11,  12,\n",
       "        13,  14,  15,  16,  17,  18,  19,  20,  21,  22,  23,  24,  25,\n",
       "        26,  27,  28,  29,  30,  31,  32,  33,  34,  35,  36,  37,  38,\n",
       "        39,  40,  41,  42,  43,  44,  45,  46,  47,  48,  49,  50,  51,\n",
       "        52,  53,  54,  55,  56,  57,  58,  59,  60,  61,  62,  63,  64,\n",
       "        65,  66,  67,  68,  69,  70,  71,  72,  73,  74,  75,  76,  77,\n",
       "        78,  79,  80,  81,  82,  83,  84,  85,  86,  87,  88,  89,  90,\n",
       "        91,  92,  93,  94,  95,  96,  97,  98,  99, 100, 101, 102, 103,\n",
       "       104, 105, 106, 107, 108, 109, 110, 111, 112, 113, 114, 115, 116,\n",
       "       117, 118, 119, 120, 121, 122, 123, 124, 125, 126, 127, 128, 129,\n",
       "       130, 131, 132, 133, 134, 135, 136, 137, 138, 139, 140, 141, 142,\n",
       "       143, 144, 145, 146, 147, 148])"
      ]
     },
     "execution_count": 289,
     "metadata": {},
     "output_type": "execute_result"
    }
   ],
   "source": [
    "test_df['ClassId'].unique()"
   ]
  },
  {
   "cell_type": "code",
   "execution_count": 106,
   "id": "d019d85a",
   "metadata": {},
   "outputs": [],
   "source": [
    "l = os.listdir('C:\\\\Users\\\\hp\\\\Downloads\\\\170 - Copy - Copy\\\\images_test')"
   ]
  },
  {
   "cell_type": "code",
   "execution_count": 76,
   "id": "a88f1603",
   "metadata": {},
   "outputs": [
    {
     "data": {
      "text/plain": [
       "14551"
      ]
     },
     "execution_count": 76,
     "metadata": {},
     "output_type": "execute_result"
    }
   ],
   "source": [
    "l.sort(key=lambda x: os.path.getmtime(x))\n",
    "len(l)"
   ]
  },
  {
   "cell_type": "code",
   "execution_count": 141,
   "id": "658727a4",
   "metadata": {},
   "outputs": [
    {
     "data": {
      "text/html": [
       "<div>\n",
       "<style scoped>\n",
       "    .dataframe tbody tr th:only-of-type {\n",
       "        vertical-align: middle;\n",
       "    }\n",
       "\n",
       "    .dataframe tbody tr th {\n",
       "        vertical-align: top;\n",
       "    }\n",
       "\n",
       "    .dataframe thead th {\n",
       "        text-align: right;\n",
       "    }\n",
       "</style>\n",
       "<table border=\"1\" class=\"dataframe\">\n",
       "  <thead>\n",
       "    <tr style=\"text-align: right;\">\n",
       "      <th></th>\n",
       "      <th>0</th>\n",
       "    </tr>\n",
       "  </thead>\n",
       "  <tbody>\n",
       "    <tr>\n",
       "      <th>0</th>\n",
       "      <td>image_test_0.jpg</td>\n",
       "    </tr>\n",
       "    <tr>\n",
       "      <th>1</th>\n",
       "      <td>image_test_1.jpg</td>\n",
       "    </tr>\n",
       "    <tr>\n",
       "      <th>2</th>\n",
       "      <td>image_test_10.jpg</td>\n",
       "    </tr>\n",
       "    <tr>\n",
       "      <th>3</th>\n",
       "      <td>image_test_100.jpg</td>\n",
       "    </tr>\n",
       "    <tr>\n",
       "      <th>4</th>\n",
       "      <td>image_test_1000.jpg</td>\n",
       "    </tr>\n",
       "    <tr>\n",
       "      <th>...</th>\n",
       "      <td>...</td>\n",
       "    </tr>\n",
       "    <tr>\n",
       "      <th>14547</th>\n",
       "      <td>image_test_9996.jpg</td>\n",
       "    </tr>\n",
       "    <tr>\n",
       "      <th>14548</th>\n",
       "      <td>image_test_9997.jpg</td>\n",
       "    </tr>\n",
       "    <tr>\n",
       "      <th>14549</th>\n",
       "      <td>image_test_9998.jpg</td>\n",
       "    </tr>\n",
       "    <tr>\n",
       "      <th>14550</th>\n",
       "      <td>image_test_9999.jpg</td>\n",
       "    </tr>\n",
       "    <tr>\n",
       "      <th>14551</th>\n",
       "      <td>Test_df.csv</td>\n",
       "    </tr>\n",
       "  </tbody>\n",
       "</table>\n",
       "<p>14552 rows × 1 columns</p>\n",
       "</div>"
      ],
      "text/plain": [
       "                         0\n",
       "0         image_test_0.jpg\n",
       "1         image_test_1.jpg\n",
       "2        image_test_10.jpg\n",
       "3       image_test_100.jpg\n",
       "4      image_test_1000.jpg\n",
       "...                    ...\n",
       "14547  image_test_9996.jpg\n",
       "14548  image_test_9997.jpg\n",
       "14549  image_test_9998.jpg\n",
       "14550  image_test_9999.jpg\n",
       "14551          Test_df.csv\n",
       "\n",
       "[14552 rows x 1 columns]"
      ]
     },
     "execution_count": 141,
     "metadata": {},
     "output_type": "execute_result"
    }
   ],
   "source": [
    "l_df = pd.DataFrame(l)\n",
    "l_df"
   ]
  },
  {
   "cell_type": "code",
   "execution_count": 79,
   "id": "5017a5ab",
   "metadata": {},
   "outputs": [],
   "source": [
    "s = l_df.to_csv('l_df.csv', index=False)"
   ]
  },
  {
   "cell_type": "code",
   "execution_count": 147,
   "id": "ef8f7153",
   "metadata": {},
   "outputs": [],
   "source": [
    "search_dir = 'C:\\\\Users\\\\hp\\\\Downloads\\\\170 - Copy - Copy\\\\images_test'\n",
    "os.chdir(search_dir)"
   ]
  },
  {
   "cell_type": "markdown",
   "id": "d3b05524",
   "metadata": {},
   "source": [
    "some codes when doing the data cleaning"
   ]
  },
  {
   "cell_type": "code",
   "execution_count": 122,
   "id": "a68a34e3",
   "metadata": {},
   "outputs": [],
   "source": [
    "# classes_x_list = classes_x.tolist()\n",
    "# len(classes_x_list)\n",
    "\n",
    "# labels_list = labels.tolist()\n",
    "# labels_list\n",
    "\n",
    "# y_test['classes_x_list'] = classes_x_list\n",
    "\n",
    "# y_test['classid'] =  np.where(y_test['ClassId'].isin(labels_list), y_test['classes_x_list'],y_test['ClassId'])\n",
    "# y_test\n",
    "\n",
    "# y_test.reset_index(drop = True)\n",
    "\n",
    "# classid_list = y_test['ClassId'].unique().tolist()\n",
    "# classid_list\n",
    "\n",
    "# y_test['Path'] = y_test['Path'].str.replace('Test/','')"
   ]
  },
  {
   "cell_type": "code",
   "execution_count": 274,
   "id": "da5ffc39",
   "metadata": {},
   "outputs": [],
   "source": [
    "y_test['ClassId'] = y_test['ClassId'].str.replace('H1','0').replace('J27','1').replace('A1','2').replace('E6','3').replace('E1','4').replace('G13','5').replace('E8','6').replace('G6','7').replace('A2(Zone)','8').replace('G12a','9').replace('C12','10').replace('C1','11').replace('B1','12').replace('D2','13').replace('G7(Zone)','14').replace('C4','15').replace('C7','16').replace('A1(Zone)','17').replace('C20','18').replace('E4','19').replace('D4','20').replace('C19','21').replace('B3','22').replace('E1(Zone)','23').replace('C9','24').replace('K14','25').replace('F6','26').replace('A4','27').replace('C2','28').replace('J21','29').replace('C3','30').replace('B6','31').replace('J5','32').replace('F5','33').replace('G11','34').replace('J38','35').replace('G5','36').replace('J4','37').replace('A3','38').replace('G7','39').replace('G14','40').replace('A2','41').replace('E7','42').replace('L8','43').replace('C15','44').replace('E10(Zone)','45').replace('J23','46').replace('C22a','47').replace('D5','48').replace('C6','49').replace('E2','50').replace('L2','51').replace('H2','52').replace('J22','53').replace('J24','54').replace('D6','55').replace('J37','56').replace('B5','57').replace('L1','58').replace('J16','59').replace('G12b','60').replace('G12','61').replace('D3','62').replace('C16','63').replace('J10','64').replace('J9','65').replace('J29','66').replace('J32','67').replace('J8','68').replace('B4','69').replace('F13','70').replace('G3','71').replace('B2','72').replace('D1','73').replace('C17','74').replace('E9','75').replace('E9(Zone)','76').replace('C8','77').replace('C7(Zone)','78').replace('J2','79').replace('E3','80').replace('J13','81').replace('J17','82').replace('F1','83').replace('J1','84').replace('G2','85').replace('J11','86').replace('B7','87').replace('L14','88').replace('J12','89').replace('G4','90').replace('J3','91').replace('F8','92').replace('C21','93').replace('L19','94').replace('E11','95').replace('J19','96').replace('J18','97').replace('G1','98').replace('E5','99').replace('G9','100').replace('C14','101').replace('J15','102').replace('J20','103').replace('C10','104').replace('J28','105').replace('C13','106').replace('F2','107').replace('D7','108').replace('F7','109').replace('E12','110').replace('F21','111').replace('E3(Zone)','112').replace('F4','113').replace('J39','114').replace('J6','115').replace('J25','116').replace('F10','117').replace('A5','118').replace('G8','119').replace('J36','120').replace('C5','121').replace('C18','122').replace('L13','123').replace('E13','124').replace('C7b','125').replace('C22','126').replace('L10','127').replace('F3','128').replace('J31','129').replace('L3b','130').replace('C11','131').replace('C7a','132').replace('G10','133').replace('L16','134').replace('J33','135').replace('L12','136').replace('J30','137').replace('J26','138').replace('J14','139').replace('L17','140').replace('L9','141').replace('F15','142').replace('C22b(Zone)','143').replace('F17','144').replace('L5','145').replace('L4','146').replace('C22a(Zone)','147').replace('J7','148')"
   ]
  },
  {
   "cell_type": "code",
   "execution_count": 275,
   "id": "391e7648",
   "metadata": {},
   "outputs": [],
   "source": [
    "y_test['ClassId'] = y_test['ClassId'].astype(int)"
   ]
  },
  {
   "cell_type": "code",
   "execution_count": 277,
   "id": "4632988a",
   "metadata": {},
   "outputs": [
    {
     "data": {
      "text/plain": [
       "ClassId            int32\n",
       "Path              object\n",
       "classes_x_list     int64\n",
       "classid           object\n",
       "dtype: object"
      ]
     },
     "execution_count": 277,
     "metadata": {},
     "output_type": "execute_result"
    }
   ],
   "source": [
    "y_test.dtypes"
   ]
  },
  {
   "cell_type": "markdown",
   "id": "154b1903",
   "metadata": {},
   "source": [
    "and getting the accuracy score with our test images"
   ]
  },
  {
   "cell_type": "code",
   "execution_count": 278,
   "id": "8a1f2be3",
   "metadata": {},
   "outputs": [],
   "source": [
    "from sklearn.metrics import accuracy_score\n",
    "# y_test = test_df\n",
    "labels = y_test[\"ClassId\"].values\n",
    "imgs = y_test[\"Path\"].values"
   ]
  },
  {
   "cell_type": "code",
   "execution_count": 279,
   "id": "5f4ba064",
   "metadata": {},
   "outputs": [],
   "source": [
    "data=[]\n",
    "\n",
    "\n",
    "for img in imgs:\n",
    "    image = Image.open(img)\n",
    "    image = image.resize((30,30))\n",
    "    data.append(np.array(image))\n",
    "    \n",
    "X_test=np.array(data)\n",
    "\n",
    "pred = model.predict(X_test)"
   ]
  },
  {
   "cell_type": "code",
   "execution_count": 280,
   "id": "46ea63eb",
   "metadata": {},
   "outputs": [
    {
     "data": {
      "text/plain": [
       "array([[6.5654647e-01, 4.4983761e-08, 1.6764348e-04, ..., 2.3850452e-03,\n",
       "        1.1187917e-10, 4.4290332e-15],\n",
       "       [9.8168659e-01, 6.3093917e-09, 6.6842013e-06, ..., 1.6154711e-03,\n",
       "        1.0767386e-09, 4.7069553e-14],\n",
       "       [9.8168659e-01, 6.3093917e-09, 6.6842013e-06, ..., 1.6154711e-03,\n",
       "        1.0767386e-09, 4.7069553e-14],\n",
       "       ...,\n",
       "       [1.3038674e-10, 1.1853197e-11, 1.5980302e-08, ..., 1.4877745e-06,\n",
       "        1.3481145e-15, 9.9381739e-01],\n",
       "       [1.8441125e-07, 2.4960897e-04, 1.4386512e-02, ..., 1.8880912e-05,\n",
       "        2.0266723e-08, 5.6268793e-01],\n",
       "       [1.4220548e-17, 2.1534434e-12, 4.9635879e-11, ..., 1.1124894e-10,\n",
       "        2.4724408e-20, 9.9983573e-01]], dtype=float32)"
      ]
     },
     "execution_count": 280,
     "metadata": {},
     "output_type": "execute_result"
    }
   ],
   "source": [
    "pred"
   ]
  },
  {
   "cell_type": "code",
   "execution_count": 282,
   "id": "8b3770bc",
   "metadata": {},
   "outputs": [],
   "source": [
    "# x= pd.Series(classes_x)\n",
    "# x.unique()"
   ]
  },
  {
   "cell_type": "code",
   "execution_count": 283,
   "id": "d3ce9def",
   "metadata": {},
   "outputs": [],
   "source": [
    "predict_x=model.predict(X_test) \n",
    "classes_x=np.argmax(predict_x,axis=1)"
   ]
  },
  {
   "cell_type": "code",
   "execution_count": 284,
   "id": "885847a8",
   "metadata": {},
   "outputs": [
    {
     "data": {
      "text/plain": [
       "array([  0,   0,   0, ..., 148, 148, 148], dtype=int64)"
      ]
     },
     "execution_count": 284,
     "metadata": {},
     "output_type": "execute_result"
    }
   ],
   "source": [
    "classes_x"
   ]
  },
  {
   "cell_type": "code",
   "execution_count": 295,
   "id": "fd1830be",
   "metadata": {},
   "outputs": [
    {
     "data": {
      "text/plain": [
       "array([  0,   0,   0, ..., 148, 148, 148])"
      ]
     },
     "execution_count": 295,
     "metadata": {},
     "output_type": "execute_result"
    }
   ],
   "source": [
    "labels"
   ]
  },
  {
   "cell_type": "code",
   "execution_count": 286,
   "id": "4bf6f18d",
   "metadata": {},
   "outputs": [
    {
     "data": {
      "text/plain": [
       "0.8132198297446169"
      ]
     },
     "execution_count": 286,
     "metadata": {},
     "output_type": "execute_result"
    }
   ],
   "source": [
    "from sklearn.metrics import accuracy_score\n",
    "accuracy_score(labels, classes_x)"
   ]
  },
  {
   "cell_type": "markdown",
   "id": "84befe75",
   "metadata": {},
   "source": [
    "after getting the score time for saving the model"
   ]
  },
  {
   "cell_type": "code",
   "execution_count": 288,
   "id": "ec8873d7",
   "metadata": {},
   "outputs": [],
   "source": [
    "model.save('traffic_classifier.h5')"
   ]
  },
  {
   "cell_type": "markdown",
   "id": "5ab39f34",
   "metadata": {},
   "source": [
    "opening the model, building our classes list whic we divided to numbers at the first place and \n",
    "defining the function to open the image by the path. then we are ready to get some predictions according to our model."
   ]
  },
  {
   "cell_type": "code",
   "execution_count": 307,
   "id": "378a64dd",
   "metadata": {},
   "outputs": [],
   "source": [
    "from keras.models import load_model\n",
    "model = load_model('traffic_classifier.h5')"
   ]
  },
  {
   "cell_type": "code",
   "execution_count": 379,
   "id": "d86c294c",
   "metadata": {},
   "outputs": [],
   "source": [
    "classes = { 0:'Bebouwde kom',\n",
    "            1:'Groot wild',\n",
    "            2:'Maximumsnelheid', \n",
    "            3:'Gehandicaptenparkeerplaats', \n",
    "            4:'Parkeerverbod', \n",
    "            5:'Onverplicht fietspad', \n",
    "            6:'Parkeergelegenheid alleen bestemd voor de voertuigcategorie of groep voertuigen die op het bord is aangegeven', \n",
    "            7:'Einde erf', \n",
    "            8:'Einde van de zone met snelheidslimiet', \n",
    "            9:'Fiets/bromfietspad', \n",
    "            10:'Gesloten voor alle motorvoertuigen', \n",
    "            11:'Gesloten in beide richtingen voor voertuigen, ruiters en geleiders van rij- of trekdieren of vee', \n",
    "            12:'Voorrangsweg', \n",
    "            13:'Gebod voor alle bestuurders het bord voorbij te gaan aan de zijde die de pijl aangeeft', \n",
    "            14:'Start of einde voetgangerszone', \n",
    "            15:'Eenrichtingsweg', \n",
    "            16:\"Gesloten voor vrachtauto's\", \n",
    "            17:'Zone van Maximumsnelheid ', \n",
    "            18:'Gesloten voor voertuigen waarvan de aslast hoger is dan op het bord is aangegeven', \n",
    "            19:'Parkeergelegenheid', \n",
    "            20:'Gebod tot het volgen van de rijrichting die op het bord is aangegeven', \n",
    "            21:'Gesloten voor voertuigen die, met inbegrip van de lading, hoger zijn dan op het bord is aangegeven', \n",
    "            22:'Voorrangskruispunt', \n",
    "            23:'Begin parkeerverbodzone', \n",
    "            24:'Gesloten voor ruiters, vee, wagens, landbouw- en bosbouwtrekkers, motorrijtuigen met beperkte snelheid, mobiele machines, brommobielen, fietsen, snorfietsen, bromfietsen en gehandicaptenvoertuigen', \n",
    "            25:'Route voor het vervoer van bepaalde gevaarlijke stoffen', \n",
    "            26:'Bestuurders uit tegengestelde richting moeten verkeer dat van deze richting nadert voor laten gaan', \n",
    "            27:'Adviessnelheid', \n",
    "            28:'Eenrichtingsweg, in deze richting gesloten voor voertuigen, ruiters en geleiders van rij- of trekdieren of vee', \n",
    "            29:'Kinderen', \n",
    "            30:'Eenrichtingsweg', \n",
    "            31:'Verleen voorrang aan bestuurders op de kruisende weg',\n",
    "            32:'S-bocht(en), eerst naar rechts', \n",
    "            33:'Verbod voor bestuurders door te gaan bij nadering van verkeer uit tegengestelde richting', \n",
    "            34:'Verplicht fietspad', \n",
    "            35:'Verkeersdrempel', \n",
    "            36:'Erf', \n",
    "            37:'S-bocht(en), eerst naar rechts', \n",
    "            38:'Maximumsnelheid op een electronisch signaleringsbord', \n",
    "            39:'Voetpad', \n",
    "            40:'Einde onverplicht fietspad', \n",
    "            41:'Einde maximumsnelheid', \n",
    "            42:'Gelegenheid bestemd voor het onmiddellijk laden en lossen van goederen', \n",
    "            43:'Doodlopende weg',\n",
    "            44:'Gesloten voor fietsen, bromfietsen en gehandicaptenvoertuigen',\n",
    "            45:'Parkeerschijf-zone met verplicht gebruik van parkeerschijf, tevens parkeerverbod indien er langer wordt geparkeerd dan de parkeerduur die op het bord is aangegeven',\n",
    "            46:'Voetgangers',\n",
    "            47:'Gesloten voor personen- en bedrijfsauto’s, vrachtauto’s of bussen met een dieselmotor vanwege milieuzone',\n",
    "            48:'Gebod tot het volgen van de rijrichting die op het bord is aangegeven',\n",
    "            49:'Gesloten voor motorvoertuigen op meer dan twee wielen',\n",
    "            50:'Verbod stil te staan',\n",
    "            51:'Voetgangersoversteekplaats',\n",
    "            52:'Einde bebouwde kom',\n",
    "            53:'Voetgangersoversteekplaats',\n",
    "            54:'Fietsers en bromfietsers',\n",
    "            55:'Gebod tot het volgen van één van de rijrichtingen die op het bord zijn aangegeven',\n",
    "            56:'Gevaar (de aard van het gevaar is aangegeven op het onderbord',\n",
    "            57:'Voorrangskruispunt Zijweg rechts',\n",
    "            58:'Hoogte onderdoorgang',\n",
    "            59:'Werk in uitvoering',\n",
    "            60:'Einde fiets/bromfietspad',\n",
    "            61:'Einde verplicht fietspad',\n",
    "            62:'Bord mag aan beide zijden worden voorbijgegaan',\n",
    "            63:'Gesloten voor voetgangers',\n",
    "            64:'Overweg met slagbomen',\n",
    "            65:'Rotonde',\n",
    "            66:'Tegenliggers',\n",
    "            67:'Verkeerslichten',\n",
    "            68:'Gevaarlijk kruispunt',\n",
    "            69:'Voorrangskruispunt Zijweg links',\n",
    "            70:'Rijbaan of -strook uitsluitend ten behoeve van lijnbussen',\n",
    "            71:'Autoweg',\n",
    "            72:'Einde voorrangsweg',\n",
    "            73:'Rotonde; verplichte rijrichting',\n",
    "            74:'Gesloten voor voertuigen en samenstellen van voertuigen die, met inbegrip van de lading, langer zijn dan op het bord is aangegeven',  \n",
    "            75:'Parkeergelegenheid alleen bestemd voor vergunninghouders',\n",
    "            76:'Start of einde parkeerzone vergunninghouders',\n",
    "            77:'Gesloten voor landbouw- en bosbouwtrekkers, motorrijtuigen met beperkte snelheid en mobiele machines',\n",
    "            78:'Start of einde zone gesloten voor vrachtverkeer',\n",
    "            79:'Bocht naar rechts',\n",
    "            80:'Verbod fietsen en bromfietsen te plaatsen',\n",
    "            81:'Overweg met twee of meer sporen',\n",
    "            82:'Rijbaanversmalling',\n",
    "            83:'Verbod voor motorvoertuigen om elkaar onderling in te halen',\n",
    "            84:'empty',\n",
    "            85:'Einde Autosnelweg',\n",
    "            86:'Overweg zonder slagbomen',\n",
    "            87:'Stop; verleen voorrang aan bestuurders op de kruisende weg',\n",
    "            88:'Vluchthaven',\n",
    "            89:'Overweg met enkel spoor',\n",
    "            90:'Einde autoweg',\n",
    "            91:'Bocht naar links',\n",
    "            92:'Einde van alle door verkeersborden aangegeven verboden',\n",
    "            93:'Gesloten voor voertuigen en samenstellen van voertuigen, waarvan de totaalmassa hoger is dan op het bord is aangegeven',\n",
    "            94:'Dichtstbijzijnde uitgang of twee dichtstbijzijnde uitgangen in de op het bord aangegeven richting en afstand',\n",
    "            95:'Einde parkeerschijf-zone met verplicht gebruik van parkeerschijf',\n",
    "            96:'Rijbaanversmalling links',\n",
    "            97:'Rijbaanversmalling rechts',\n",
    "            98:'Autosnelweg',\n",
    "            99:'Taxistandplaats',\n",
    "            100:'Ruiterpad',\n",
    "            101:'Gesloten voor fietsen en voor gehandicaptenvoertuigen zonder motor',\n",
    "            102:'Beweegbare brug',\n",
    "            103:'Slipgevaar',\n",
    "            104:'Gesloten voor motorvoertuigen met aanhangwagen',\n",
    "            105:'Vee',\n",
    "            106:'Gesloten voor bromfietsen, snorfietsen en gehandicaptenvoertuigen, met in werking zijnde motor',\n",
    "            107:'Einde verbod voor motorvoertuigen om elkaar onderling in te halen',\n",
    "            108:'Gebod tot het volgen van één van de rijrichtingen die op het bord zijn aangegeven',\n",
    "            109:'Keerverbod',\n",
    "            110:'Parkeergelegenheid ten behoeve van overstappers op het openbaar vervoer',\n",
    "            111:'Rijbaan of -strook uitsluitend ten behoeve van vrachtauto’s',\n",
    "            112:'Start of einde zone parkeerverbod voor (brom-)fietsers',\n",
    "            113:\"Einde verbod voor vrachtauto's om motorvoertuigen in te halen\",\n",
    "            114:'Waarschuwing voor elektrische in- en uitschuifbare paal in de rijbaan (poller) waarmee toegankelijkheid van straten en gebieden kan worden geregeld.',\n",
    "            115:'Steile helling',\n",
    "            116:'Losliggende stenen',\n",
    "            117:'Stop. In het bord kan worden aangegeven door wie of waarom het bord wordt toegepast',\n",
    "            118:'Einde adviessnelheid',\n",
    "            119:'Einde voetpad',\n",
    "            120:'IJzel of sneeuw',\n",
    "            121:'Inrijden toegestaan',\n",
    "            122:'Gesloten voor voertuigen die, met inbegrip van de lading, breder zijn dan op het bord is aangegeven',\n",
    "            123:'verkeerstunnel',\n",
    "            124:'Parkeergelegenheid ten behoeve van carpoolers',\n",
    "            125:'Gesloten voor autobussen en vrachtauto’s',\n",
    "            126:'Gesloten voor voertuigen met bepaalde gevaarlijke stoffen',\n",
    "            127:'Vooraanduiding verkeersmaatregel voor de aangegeven richting',\n",
    "            128:'Verbod voor vrachtauto’s om motorvoertuigen in te halen',\n",
    "            129:'Zijwind',\n",
    "            130:'Bushalte / tramhalte',\n",
    "            131:'Gesloten voor motorfietsen',\n",
    "            132:'Gesloten voor autobussen',\n",
    "            133:'Einde ruiterpad',\n",
    "            134:'Noodtelefoon',\n",
    "            135:'File',\n",
    "            136:'Verkeersbord geldt alleen voor de aangegeven rijstrook',\n",
    "            137:'Laagvliegende vliegtuigen',\n",
    "            138:'Kade of rivieroever',\n",
    "            139:'Tram(kruising)',\n",
    "            140:'Brandblusapparaat',\n",
    "            141:'Vooraanduiding doodlopende weg',\n",
    "            142:'Rijbaan of -strook uitsluitend ten behoeve van trams',\n",
    "            143:'Einde geslotenverklaring milieuzone',\n",
    "            144:'Rijbaan of -strook uitsluitend ten behoeve van lijnbussen en trams',\n",
    "            145:'Einde rijstrook',\n",
    "            146:'Voorsorteren',\n",
    "            147:'Gesloten voor personen- en bedrijfsauto’s, vrachtauto’s of bussen met een dieselmotor vanwege milieuzone',\n",
    "            148:'Gevaarlijke daling'}"
   ]
  },
  {
   "cell_type": "code",
   "execution_count": 382,
   "id": "18d13e3e",
   "metadata": {},
   "outputs": [],
   "source": [
    "image = Image.open('C:\\\\Users\\\\hp\\\\Downloads\\\\170 - Copy - Copy\\\\Examples\\\\image_292.jpg')\n",
    "image = image.resize((30,30))\n",
    "image = np.expand_dims(image, axis=0)\n",
    "image_array = np.array(image)\n",
    "image_array\n",
    "pred = model.predict(image_array)[0]"
   ]
  },
  {
   "cell_type": "code",
   "execution_count": 387,
   "id": "17414110",
   "metadata": {},
   "outputs": [],
   "source": [
    "# pred"
   ]
  },
  {
   "cell_type": "code",
   "execution_count": 384,
   "id": "816a65f1",
   "metadata": {},
   "outputs": [],
   "source": [
    "predict_x=model.predict(image_array)\n",
    "classes_x=np.argmax(predict_x,axis=1)"
   ]
  },
  {
   "cell_type": "code",
   "execution_count": 385,
   "id": "e44bf7ae",
   "metadata": {},
   "outputs": [
    {
     "data": {
      "text/plain": [
       "58"
      ]
     },
     "execution_count": 385,
     "metadata": {},
     "output_type": "execute_result"
    }
   ],
   "source": [
    "classes_x[0]"
   ]
  },
  {
   "cell_type": "code",
   "execution_count": 386,
   "id": "2dc1dd02",
   "metadata": {},
   "outputs": [
    {
     "data": {
      "text/plain": [
       "'Hoogte onderdoorgang'"
      ]
     },
     "execution_count": 386,
     "metadata": {},
     "output_type": "execute_result"
    }
   ],
   "source": [
    "classes[classes_x[0]]"
   ]
  },
  {
   "cell_type": "code",
   "execution_count": 388,
   "id": "d3c8dee8",
   "metadata": {},
   "outputs": [],
   "source": [
    "def traffic_sign_classes(file_path):\n",
    "    image = Image.open(file_path)\n",
    "    image = image.resize((30,30))\n",
    "    image = np.expand_dims(image, axis=0)\n",
    "    image_array = np.array(image)\n",
    "    image_array\n",
    "    predict_x=model.predict(image_array)\n",
    "    classes_x=np.argmax(predict_x,axis=1)\n",
    "    print(classes[classes_x[0]])"
   ]
  },
  {
   "cell_type": "code",
   "execution_count": 389,
   "id": "c16eb59a",
   "metadata": {},
   "outputs": [
    {
     "name": "stdout",
     "output_type": "stream",
     "text": [
      "Hoogte onderdoorgang\n"
     ]
    }
   ],
   "source": [
    "traffic_sign_classes('C:\\\\Users\\\\hp\\\\Downloads\\\\170 - Copy - Copy\\\\Examples\\\\image_292.jpg')"
   ]
  },
  {
   "cell_type": "markdown",
   "id": "d2c4d10c",
   "metadata": {},
   "source": [
    "on the third notebook (classifier) only the getting predictions part located. with the list above(this time with numbers) "
   ]
  }
 ],
 "metadata": {
  "kernelspec": {
   "display_name": "Python 3",
   "language": "python",
   "name": "python3"
  },
  "language_info": {
   "codemirror_mode": {
    "name": "ipython",
    "version": 3
   },
   "file_extension": ".py",
   "mimetype": "text/x-python",
   "name": "python",
   "nbconvert_exporter": "python",
   "pygments_lexer": "ipython3",
   "version": "3.8.8"
  }
 },
 "nbformat": 4,
 "nbformat_minor": 5
}
